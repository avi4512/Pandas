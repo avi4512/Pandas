{
 "cells": [
  {
   "cell_type": "code",
   "execution_count": 1,
   "id": "2bae182e-18bc-49a6-bc83-b6d263c5a92b",
   "metadata": {},
   "outputs": [],
   "source": [
    "import pandas as pd"
   ]
  },
  {
   "cell_type": "code",
   "execution_count": 2,
   "id": "83835d82-e263-4a69-b14b-e7815a17d705",
   "metadata": {},
   "outputs": [],
   "source": [
    "s1 = pd.Series([10,20,30,40])\n",
    "s2 = pd.Series([50,60,70,80])"
   ]
  },
  {
   "cell_type": "code",
   "execution_count": 3,
   "id": "4c6bd152-4e7f-45bc-97b7-da1bd6e54ed3",
   "metadata": {},
   "outputs": [
    {
     "data": {
      "text/plain": [
       "0     60\n",
       "1     80\n",
       "2    100\n",
       "3    120\n",
       "dtype: int64"
      ]
     },
     "execution_count": 3,
     "metadata": {},
     "output_type": "execute_result"
    }
   ],
   "source": [
    "#Addition\n",
    "\n",
    "add = s1.add(s2)\n",
    "add"
   ]
  },
  {
   "cell_type": "code",
   "execution_count": 4,
   "id": "953f8608-d75b-421d-aae7-9bd221be189c",
   "metadata": {},
   "outputs": [
    {
     "data": {
      "text/plain": [
       "0   -40\n",
       "1   -40\n",
       "2   -40\n",
       "3   -40\n",
       "dtype: int64"
      ]
     },
     "execution_count": 4,
     "metadata": {},
     "output_type": "execute_result"
    }
   ],
   "source": [
    "#subtraction\n",
    "\n",
    "sub = s1.sub(s2)\n",
    "sub"
   ]
  },
  {
   "cell_type": "code",
   "execution_count": 5,
   "id": "ba63db4b-2476-4e90-a2c0-9250fc3ca0cb",
   "metadata": {},
   "outputs": [
    {
     "data": {
      "text/plain": [
       "0     500\n",
       "1    1200\n",
       "2    2100\n",
       "3    3200\n",
       "dtype: int64"
      ]
     },
     "execution_count": 5,
     "metadata": {},
     "output_type": "execute_result"
    }
   ],
   "source": [
    "#multiplication\n",
    "\n",
    "mul = s1.multiply(s2)\n",
    "mul"
   ]
  },
  {
   "cell_type": "code",
   "execution_count": 6,
   "id": "91dab94a-6ee9-423c-8eb5-fb098476e638",
   "metadata": {},
   "outputs": [
    {
     "data": {
      "text/plain": [
       "0    0.200000\n",
       "1    0.333333\n",
       "2    0.428571\n",
       "3    0.500000\n",
       "dtype: float64"
      ]
     },
     "execution_count": 6,
     "metadata": {},
     "output_type": "execute_result"
    }
   ],
   "source": [
    "#division\n",
    "\n",
    "div = s1.divide(s2)\n",
    "div"
   ]
  },
  {
   "cell_type": "code",
   "execution_count": 7,
   "id": "93257284-a8a3-49d2-ad27-e57b3fa396d2",
   "metadata": {},
   "outputs": [
    {
     "data": {
      "text/plain": [
       "0    10\n",
       "1    20\n",
       "2    30\n",
       "3    40\n",
       "dtype: int64"
      ]
     },
     "execution_count": 7,
     "metadata": {},
     "output_type": "execute_result"
    }
   ],
   "source": [
    "#modulo\n",
    "\n",
    "modulo = s1.mod(s2)\n",
    "modulo"
   ]
  },
  {
   "cell_type": "code",
   "execution_count": 8,
   "id": "b60b69c2-c0bd-4647-9bf2-fe7af8141c87",
   "metadata": {},
   "outputs": [
    {
     "data": {
      "text/plain": [
       "0   -5376172055173529600\n",
       "1                      0\n",
       "2                      0\n",
       "3                      0\n",
       "dtype: int64"
      ]
     },
     "execution_count": 8,
     "metadata": {},
     "output_type": "execute_result"
    }
   ],
   "source": [
    "#power\n",
    "\n",
    "power = s1.pow(s2)\n",
    "power"
   ]
  },
  {
   "cell_type": "code",
   "execution_count": 9,
   "id": "822c65de-7e3e-44db-8a14-0804e1e03ad8",
   "metadata": {},
   "outputs": [
    {
     "data": {
      "text/plain": [
       "0    True\n",
       "1    True\n",
       "2    True\n",
       "3    True\n",
       "dtype: bool"
      ]
     },
     "execution_count": 9,
     "metadata": {},
     "output_type": "execute_result"
    }
   ],
   "source": [
    "#less than\n",
    "\n",
    "less_than = s1< s2   # s1.le(s2)\n",
    "less_than"
   ]
  },
  {
   "cell_type": "code",
   "execution_count": 10,
   "id": "0470101b-9690-4713-86d7-70cf45c61f72",
   "metadata": {},
   "outputs": [
    {
     "data": {
      "text/plain": [
       "0    False\n",
       "1    False\n",
       "2    False\n",
       "3    False\n",
       "dtype: bool"
      ]
     },
     "execution_count": 10,
     "metadata": {},
     "output_type": "execute_result"
    }
   ],
   "source": [
    "#greater than\n",
    "\n",
    "greater_than = s1.gt(s2)    #s1 > s2\n",
    "greater_than"
   ]
  },
  {
   "cell_type": "code",
   "execution_count": 11,
   "id": "107e426e-2183-45b2-b0aa-5187a480da9e",
   "metadata": {},
   "outputs": [
    {
     "data": {
      "text/plain": [
       "0    False\n",
       "1    False\n",
       "2    False\n",
       "3    False\n",
       "dtype: bool"
      ]
     },
     "execution_count": 11,
     "metadata": {},
     "output_type": "execute_result"
    }
   ],
   "source": [
    "#equal to\n",
    "\n",
    "equal_to = s1.eq(s2) #s1 == s2\n",
    "equal_to"
   ]
  },
  {
   "cell_type": "code",
   "execution_count": null,
   "id": "cefd06a9-aaca-4ad9-9c50-4a0c87b48968",
   "metadata": {},
   "outputs": [],
   "source": []
  }
 ],
 "metadata": {
  "kernelspec": {
   "display_name": "Python 3 (ipykernel)",
   "language": "python",
   "name": "python3"
  },
  "language_info": {
   "codemirror_mode": {
    "name": "ipython",
    "version": 3
   },
   "file_extension": ".py",
   "mimetype": "text/x-python",
   "name": "python",
   "nbconvert_exporter": "python",
   "pygments_lexer": "ipython3",
   "version": "3.12.4"
  }
 },
 "nbformat": 4,
 "nbformat_minor": 5
}
