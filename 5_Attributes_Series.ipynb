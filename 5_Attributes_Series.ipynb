{
 "cells": [
  {
   "cell_type": "code",
   "execution_count": 1,
   "id": "6c60a0ef-9fdc-4195-b527-f3d13baa6370",
   "metadata": {},
   "outputs": [],
   "source": [
    "import pandas as pd"
   ]
  },
  {
   "cell_type": "code",
   "execution_count": 18,
   "id": "5c77f76a-e762-45c3-9cd8-8c7755d8951e",
   "metadata": {},
   "outputs": [
    {
     "data": {
      "text/plain": [
       "i      10\n",
       "ii     20\n",
       "iii    30\n",
       "iv     40\n",
       "v      50\n",
       "vi     60\n",
       "Name: Data, dtype: int64"
      ]
     },
     "execution_count": 18,
     "metadata": {},
     "output_type": "execute_result"
    }
   ],
   "source": [
    "data = pd.Series([10,20,30,40,50,60],name=\"Data\",index=['i','ii','iii','iv','v','vi'])\n",
    "data"
   ]
  },
  {
   "cell_type": "markdown",
   "id": "aae68dfb-6964-4e84-aa03-42fb98e932e4",
   "metadata": {},
   "source": [
    "1_index --> Return the all index values"
   ]
  },
  {
   "cell_type": "code",
   "execution_count": 19,
   "id": "a94dc490-4fe6-4d4e-8250-5c3134b2b225",
   "metadata": {},
   "outputs": [
    {
     "data": {
      "text/plain": [
       "Index(['i', 'ii', 'iii', 'iv', 'v', 'vi'], dtype='object')"
      ]
     },
     "execution_count": 19,
     "metadata": {},
     "output_type": "execute_result"
    }
   ],
   "source": [
    "data.index"
   ]
  },
  {
   "cell_type": "code",
   "execution_count": null,
   "id": "ab1463e8-cb30-44f8-90c4-f68ca75634b6",
   "metadata": {},
   "outputs": [],
   "source": [
    "name --> "
   ]
  },
  {
   "cell_type": "markdown",
   "id": "7f4c1de5-421c-48b2-b27c-5252f7ec4dea",
   "metadata": {},
   "source": [
    "2_array --> Returns the array of Values"
   ]
  },
  {
   "cell_type": "code",
   "execution_count": 20,
   "id": "c2a70178-c47c-4ec2-8af4-fa6cf7af1bb1",
   "metadata": {},
   "outputs": [
    {
     "data": {
      "text/plain": [
       "<NumpyExtensionArray>\n",
       "[10, 20, 30, 40, 50, 60]\n",
       "Length: 6, dtype: int64"
      ]
     },
     "execution_count": 20,
     "metadata": {},
     "output_type": "execute_result"
    }
   ],
   "source": [
    "data.array"
   ]
  },
  {
   "cell_type": "markdown",
   "id": "50625fb3-d105-4978-90c5-45c6ade8e595",
   "metadata": {},
   "source": [
    "3_values --> Return the Values in the Series"
   ]
  },
  {
   "cell_type": "code",
   "execution_count": 21,
   "id": "3adf232b-9000-4a3d-ac1c-06c5f39697ac",
   "metadata": {},
   "outputs": [
    {
     "data": {
      "text/plain": [
       "array([10, 20, 30, 40, 50, 60], dtype=int64)"
      ]
     },
     "execution_count": 21,
     "metadata": {},
     "output_type": "execute_result"
    }
   ],
   "source": [
    "data.values  "
   ]
  },
  {
   "cell_type": "markdown",
   "id": "d92a0146-58b8-4b06-9a0e-85e8549209bd",
   "metadata": {},
   "source": [
    "4_shape --> Returns the Size of the Series"
   ]
  },
  {
   "cell_type": "code",
   "execution_count": 22,
   "id": "691abd14-9584-4212-ae67-238edae76bb2",
   "metadata": {},
   "outputs": [
    {
     "data": {
      "text/plain": [
       "(6,)"
      ]
     },
     "execution_count": 22,
     "metadata": {},
     "output_type": "execute_result"
    }
   ],
   "source": [
    "data.shape"
   ]
  },
  {
   "cell_type": "markdown",
   "id": "583efa8d-ecb4-4623-8ba4-b433970fb582",
   "metadata": {},
   "source": [
    "5_ndim --> Returns the Dimension of the Series"
   ]
  },
  {
   "cell_type": "code",
   "execution_count": 23,
   "id": "ae43fa78-dc38-4c53-b832-be55d3986727",
   "metadata": {},
   "outputs": [
    {
     "data": {
      "text/plain": [
       "1"
      ]
     },
     "execution_count": 23,
     "metadata": {},
     "output_type": "execute_result"
    }
   ],
   "source": [
    "data.ndim"
   ]
  },
  {
   "cell_type": "markdown",
   "id": "43d319ba-ee97-4ac0-a70a-97e2509e972c",
   "metadata": {},
   "source": [
    "6_size --> Returns the Size of the Series"
   ]
  },
  {
   "cell_type": "code",
   "execution_count": 24,
   "id": "b99bec65-4f66-42de-9ecf-1990478757ea",
   "metadata": {},
   "outputs": [
    {
     "data": {
      "text/plain": [
       "6"
      ]
     },
     "execution_count": 24,
     "metadata": {},
     "output_type": "execute_result"
    }
   ],
   "source": [
    "data.size"
   ]
  },
  {
   "cell_type": "markdown",
   "id": "bb00d3ba-28d5-414b-9a29-96ec7ff4376d",
   "metadata": {},
   "source": [
    "7_nbytes  --> No.of Bytes occupied by the Values in Series"
   ]
  },
  {
   "cell_type": "code",
   "execution_count": 25,
   "id": "ca2cb58c-3e8b-4974-9b88-8705fc73f351",
   "metadata": {},
   "outputs": [
    {
     "data": {
      "text/plain": [
       "48"
      ]
     },
     "execution_count": 25,
     "metadata": {},
     "output_type": "execute_result"
    }
   ],
   "source": [
    "data.nbytes"
   ]
  },
  {
   "cell_type": "markdown",
   "id": "33fcd9fe-87a3-498d-924e-d4e8e65625c5",
   "metadata": {},
   "source": [
    "8_memory_usage() --> no.of Bytes Occupied by the Both the Values and index's"
   ]
  },
  {
   "cell_type": "code",
   "execution_count": 26,
   "id": "1455a14e-0cc1-46df-87f9-11b097591831",
   "metadata": {},
   "outputs": [
    {
     "data": {
      "text/plain": [
       "268"
      ]
     },
     "execution_count": 26,
     "metadata": {},
     "output_type": "execute_result"
    }
   ],
   "source": [
    "data.memory_usage()"
   ]
  },
  {
   "cell_type": "markdown",
   "id": "195d5dc7-b8c0-4d60-945a-d06693a65f73",
   "metadata": {},
   "source": [
    "9_empty or not --> Return weather the Series is Empty or Not in the Bool data Type"
   ]
  },
  {
   "cell_type": "code",
   "execution_count": 27,
   "id": "3939cad3-93b2-4022-8195-5f51f48d5a81",
   "metadata": {},
   "outputs": [
    {
     "data": {
      "text/plain": [
       "False"
      ]
     },
     "execution_count": 27,
     "metadata": {},
     "output_type": "execute_result"
    }
   ],
   "source": [
    "data.empty"
   ]
  },
  {
   "cell_type": "code",
   "execution_count": null,
   "id": "39929d1d-5210-4238-97ad-97f0dc7b7622",
   "metadata": {},
   "outputs": [],
   "source": []
  }
 ],
 "metadata": {
  "kernelspec": {
   "display_name": "Python 3 (ipykernel)",
   "language": "python",
   "name": "python3"
  },
  "language_info": {
   "codemirror_mode": {
    "name": "ipython",
    "version": 3
   },
   "file_extension": ".py",
   "mimetype": "text/x-python",
   "name": "python",
   "nbconvert_exporter": "python",
   "pygments_lexer": "ipython3",
   "version": "3.12.4"
  }
 },
 "nbformat": 4,
 "nbformat_minor": 5
}
