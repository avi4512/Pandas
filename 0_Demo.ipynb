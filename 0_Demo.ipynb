{
 "cells": [
  {
   "cell_type": "code",
   "execution_count": 1,
   "id": "fbc43a3d-046e-4149-b15c-0a99e0d97160",
   "metadata": {},
   "outputs": [],
   "source": [
    "import pandas as pd"
   ]
  },
  {
   "cell_type": "code",
   "execution_count": 2,
   "id": "7414dd0e-a152-461d-bc5a-f8b2897549ab",
   "metadata": {},
   "outputs": [],
   "source": [
    "df = pd.read_excel(\"D:\\\\DataSet\\\\Ev Sales.xlsx\")"
   ]
  },
  {
   "cell_type": "code",
   "execution_count": 3,
   "id": "d7c8c757-3808-48ae-945d-bcc112e4873e",
   "metadata": {},
   "outputs": [],
   "source": [
    "df.to_csv(\"D:\\\\DataSet\\\\Changed_data.csv\")"
   ]
  },
  {
   "cell_type": "code",
   "execution_count": 4,
   "id": "7d20c75b-4456-432a-bda0-49d132bfc821",
   "metadata": {},
   "outputs": [
    {
     "data": {
      "text/html": [
       "<div>\n",
       "<style scoped>\n",
       "    .dataframe tbody tr th:only-of-type {\n",
       "        vertical-align: middle;\n",
       "    }\n",
       "\n",
       "    .dataframe tbody tr th {\n",
       "        vertical-align: top;\n",
       "    }\n",
       "\n",
       "    .dataframe thead th {\n",
       "        text-align: right;\n",
       "    }\n",
       "</style>\n",
       "<table border=\"1\" class=\"dataframe\">\n",
       "  <thead>\n",
       "    <tr style=\"text-align: right;\">\n",
       "      <th></th>\n",
       "      <th>YEAR</th>\n",
       "      <th>2 W</th>\n",
       "      <th>3 W</th>\n",
       "      <th>4 W</th>\n",
       "      <th>BUS</th>\n",
       "      <th>TOTAL</th>\n",
       "    </tr>\n",
       "  </thead>\n",
       "  <tbody>\n",
       "    <tr>\n",
       "      <th>count</th>\n",
       "      <td>74</td>\n",
       "      <td>74.000000</td>\n",
       "      <td>74.000000</td>\n",
       "      <td>74.000000</td>\n",
       "      <td>74.000000</td>\n",
       "      <td>74.000000</td>\n",
       "    </tr>\n",
       "    <tr>\n",
       "      <th>mean</th>\n",
       "      <td>2020-04-16 04:12:58.378378496</td>\n",
       "      <td>16938.729730</td>\n",
       "      <td>14851.351351</td>\n",
       "      <td>1272.567568</td>\n",
       "      <td>82.310811</td>\n",
       "      <td>33144.959459</td>\n",
       "    </tr>\n",
       "    <tr>\n",
       "      <th>min</th>\n",
       "      <td>2017-04-01 00:00:00</td>\n",
       "      <td>85.000000</td>\n",
       "      <td>668.000000</td>\n",
       "      <td>3.000000</td>\n",
       "      <td>0.000000</td>\n",
       "      <td>958.000000</td>\n",
       "    </tr>\n",
       "    <tr>\n",
       "      <th>30%</th>\n",
       "      <td>2019-01-28 21:36:00</td>\n",
       "      <td>1556.000000</td>\n",
       "      <td>8225.500000</td>\n",
       "      <td>197.700000</td>\n",
       "      <td>18.900000</td>\n",
       "      <td>10942.900000</td>\n",
       "    </tr>\n",
       "    <tr>\n",
       "      <th>40%</th>\n",
       "      <td>2019-09-07 00:00:00</td>\n",
       "      <td>2239.400000</td>\n",
       "      <td>9037.400000</td>\n",
       "      <td>232.400000</td>\n",
       "      <td>44.800000</td>\n",
       "      <td>12293.800000</td>\n",
       "    </tr>\n",
       "    <tr>\n",
       "      <th>50%</th>\n",
       "      <td>2020-04-16 00:00:00</td>\n",
       "      <td>3014.500000</td>\n",
       "      <td>10619.500000</td>\n",
       "      <td>317.500000</td>\n",
       "      <td>74.500000</td>\n",
       "      <td>14526.000000</td>\n",
       "    </tr>\n",
       "    <tr>\n",
       "      <th>70%</th>\n",
       "      <td>2021-07-04 02:24:00</td>\n",
       "      <td>14808.500000</td>\n",
       "      <td>14992.200000</td>\n",
       "      <td>1207.800000</td>\n",
       "      <td>97.100000</td>\n",
       "      <td>28170.100000</td>\n",
       "    </tr>\n",
       "    <tr>\n",
       "      <th>max</th>\n",
       "      <td>2023-05-01 00:00:00</td>\n",
       "      <td>105154.000000</td>\n",
       "      <td>45225.000000</td>\n",
       "      <td>8852.000000</td>\n",
       "      <td>331.000000</td>\n",
       "      <td>157788.000000</td>\n",
       "    </tr>\n",
       "    <tr>\n",
       "      <th>std</th>\n",
       "      <td>NaN</td>\n",
       "      <td>25846.636971</td>\n",
       "      <td>11002.517635</td>\n",
       "      <td>1841.195763</td>\n",
       "      <td>79.696672</td>\n",
       "      <td>38251.453387</td>\n",
       "    </tr>\n",
       "  </tbody>\n",
       "</table>\n",
       "</div>"
      ],
      "text/plain": [
       "                                YEAR            2 W           3 W  \\\n",
       "count                             74      74.000000     74.000000   \n",
       "mean   2020-04-16 04:12:58.378378496   16938.729730  14851.351351   \n",
       "min              2017-04-01 00:00:00      85.000000    668.000000   \n",
       "30%              2019-01-28 21:36:00    1556.000000   8225.500000   \n",
       "40%              2019-09-07 00:00:00    2239.400000   9037.400000   \n",
       "50%              2020-04-16 00:00:00    3014.500000  10619.500000   \n",
       "70%              2021-07-04 02:24:00   14808.500000  14992.200000   \n",
       "max              2023-05-01 00:00:00  105154.000000  45225.000000   \n",
       "std                              NaN   25846.636971  11002.517635   \n",
       "\n",
       "               4 W         BUS          TOTAL  \n",
       "count    74.000000   74.000000      74.000000  \n",
       "mean   1272.567568   82.310811   33144.959459  \n",
       "min       3.000000    0.000000     958.000000  \n",
       "30%     197.700000   18.900000   10942.900000  \n",
       "40%     232.400000   44.800000   12293.800000  \n",
       "50%     317.500000   74.500000   14526.000000  \n",
       "70%    1207.800000   97.100000   28170.100000  \n",
       "max    8852.000000  331.000000  157788.000000  \n",
       "std    1841.195763   79.696672   38251.453387  "
      ]
     },
     "execution_count": 4,
     "metadata": {},
     "output_type": "execute_result"
    }
   ],
   "source": [
    "df.describe(percentiles=[0.7,0.3,0.4])"
   ]
  },
  {
   "cell_type": "code",
   "execution_count": 5,
   "id": "1bbf7d70-981e-4ee0-8a0c-71c0d4eece73",
   "metadata": {},
   "outputs": [
    {
     "name": "stdout",
     "output_type": "stream",
     "text": [
      "<class 'pandas.core.frame.DataFrame'>\n",
      "RangeIndex: 74 entries, 0 to 73\n",
      "Data columns (total 6 columns):\n",
      " #   Column  Non-Null Count  Dtype         \n",
      "---  ------  --------------  -----         \n",
      " 0   YEAR    74 non-null     datetime64[ns]\n",
      " 1   2 W     74 non-null     int64         \n",
      " 2   3 W     74 non-null     int64         \n",
      " 3   4 W     74 non-null     int64         \n",
      " 4   BUS     74 non-null     int64         \n",
      " 5   TOTAL   74 non-null     int64         \n",
      "dtypes: datetime64[ns](1), int64(5)\n",
      "memory usage: 3.6 KB\n"
     ]
    }
   ],
   "source": [
    "df.info()"
   ]
  },
  {
   "cell_type": "code",
   "execution_count": 6,
   "id": "daf10545-9674-43f6-929f-5d4024931ca5",
   "metadata": {},
   "outputs": [
    {
     "data": {
      "text/plain": [
       "(74, 6)"
      ]
     },
     "execution_count": 6,
     "metadata": {},
     "output_type": "execute_result"
    }
   ],
   "source": [
    "df.shape"
   ]
  },
  {
   "cell_type": "code",
   "execution_count": 7,
   "id": "e118fe88-d730-4f6f-a98d-14afd7ddecfa",
   "metadata": {},
   "outputs": [
    {
     "data": {
      "text/plain": [
       "74"
      ]
     },
     "execution_count": 7,
     "metadata": {},
     "output_type": "execute_result"
    }
   ],
   "source": [
    "df.shape[0]"
   ]
  },
  {
   "cell_type": "code",
   "execution_count": 8,
   "id": "49e9b6ab-55ff-4f02-a340-f6b89b1448ee",
   "metadata": {},
   "outputs": [
    {
     "data": {
      "text/plain": [
       "6"
      ]
     },
     "execution_count": 8,
     "metadata": {},
     "output_type": "execute_result"
    }
   ],
   "source": [
    "df.shape[1]"
   ]
  },
  {
   "cell_type": "code",
   "execution_count": 9,
   "id": "7225fdd0-a87e-4f86-8b96-734679e32824",
   "metadata": {},
   "outputs": [
    {
     "data": {
      "text/plain": [
       "Index(['YEAR', '2 W', '3 W', '4 W', 'BUS', 'TOTAL'], dtype='object')"
      ]
     },
     "execution_count": 9,
     "metadata": {},
     "output_type": "execute_result"
    }
   ],
   "source": [
    "df.columns"
   ]
  },
  {
   "cell_type": "code",
   "execution_count": 10,
   "id": "6caf64e0-f217-428d-bb73-b62b3b51d538",
   "metadata": {},
   "outputs": [
    {
     "data": {
      "text/plain": [
       "['YEAR', '2 W', '3 W', '4 W', 'BUS', 'TOTAL']"
      ]
     },
     "execution_count": 10,
     "metadata": {},
     "output_type": "execute_result"
    }
   ],
   "source": [
    "list(df.columns)"
   ]
  },
  {
   "cell_type": "code",
   "execution_count": 11,
   "id": "10ad014c-5dcd-4c96-b7e4-e9979fdad3e5",
   "metadata": {},
   "outputs": [],
   "source": [
    "df2 = df.copy()"
   ]
  },
  {
   "cell_type": "code",
   "execution_count": 12,
   "id": "adc524af-e491-413c-8931-749aa1cdafff",
   "metadata": {},
   "outputs": [],
   "source": [
    "df2.loc[2:7,'2 W'] = None"
   ]
  },
  {
   "cell_type": "code",
   "execution_count": 13,
   "id": "2a18b09f-a476-468d-b90b-090996c9773f",
   "metadata": {},
   "outputs": [
    {
     "data": {
      "text/html": [
       "<div>\n",
       "<style scoped>\n",
       "    .dataframe tbody tr th:only-of-type {\n",
       "        vertical-align: middle;\n",
       "    }\n",
       "\n",
       "    .dataframe tbody tr th {\n",
       "        vertical-align: top;\n",
       "    }\n",
       "\n",
       "    .dataframe thead th {\n",
       "        text-align: right;\n",
       "    }\n",
       "</style>\n",
       "<table border=\"1\" class=\"dataframe\">\n",
       "  <thead>\n",
       "    <tr style=\"text-align: right;\">\n",
       "      <th></th>\n",
       "      <th>YEAR</th>\n",
       "      <th>2 W</th>\n",
       "      <th>3 W</th>\n",
       "      <th>4 W</th>\n",
       "      <th>BUS</th>\n",
       "      <th>TOTAL</th>\n",
       "    </tr>\n",
       "  </thead>\n",
       "  <tbody>\n",
       "    <tr>\n",
       "      <th>0</th>\n",
       "      <td>2017-04-01</td>\n",
       "      <td>96.0</td>\n",
       "      <td>4748</td>\n",
       "      <td>198</td>\n",
       "      <td>0</td>\n",
       "      <td>5042</td>\n",
       "    </tr>\n",
       "    <tr>\n",
       "      <th>1</th>\n",
       "      <td>2017-05-01</td>\n",
       "      <td>91.0</td>\n",
       "      <td>6720</td>\n",
       "      <td>215</td>\n",
       "      <td>2</td>\n",
       "      <td>7028</td>\n",
       "    </tr>\n",
       "    <tr>\n",
       "      <th>2</th>\n",
       "      <td>2017-06-01</td>\n",
       "      <td>NaN</td>\n",
       "      <td>7178</td>\n",
       "      <td>149</td>\n",
       "      <td>1</td>\n",
       "      <td>7465</td>\n",
       "    </tr>\n",
       "    <tr>\n",
       "      <th>3</th>\n",
       "      <td>2017-07-01</td>\n",
       "      <td>NaN</td>\n",
       "      <td>8775</td>\n",
       "      <td>120</td>\n",
       "      <td>0</td>\n",
       "      <td>9011</td>\n",
       "    </tr>\n",
       "    <tr>\n",
       "      <th>4</th>\n",
       "      <td>2017-08-01</td>\n",
       "      <td>NaN</td>\n",
       "      <td>8905</td>\n",
       "      <td>137</td>\n",
       "      <td>0</td>\n",
       "      <td>9141</td>\n",
       "    </tr>\n",
       "    <tr>\n",
       "      <th>5</th>\n",
       "      <td>2017-09-01</td>\n",
       "      <td>NaN</td>\n",
       "      <td>7414</td>\n",
       "      <td>193</td>\n",
       "      <td>0</td>\n",
       "      <td>7716</td>\n",
       "    </tr>\n",
       "    <tr>\n",
       "      <th>6</th>\n",
       "      <td>2017-10-01</td>\n",
       "      <td>NaN</td>\n",
       "      <td>7250</td>\n",
       "      <td>214</td>\n",
       "      <td>0</td>\n",
       "      <td>7624</td>\n",
       "    </tr>\n",
       "    <tr>\n",
       "      <th>7</th>\n",
       "      <td>2017-11-01</td>\n",
       "      <td>NaN</td>\n",
       "      <td>9598</td>\n",
       "      <td>186</td>\n",
       "      <td>11</td>\n",
       "      <td>10009</td>\n",
       "    </tr>\n",
       "    <tr>\n",
       "      <th>8</th>\n",
       "      <td>2017-12-01</td>\n",
       "      <td>189.0</td>\n",
       "      <td>8719</td>\n",
       "      <td>179</td>\n",
       "      <td>0</td>\n",
       "      <td>9087</td>\n",
       "    </tr>\n",
       "    <tr>\n",
       "      <th>9</th>\n",
       "      <td>2018-01-01</td>\n",
       "      <td>176.0</td>\n",
       "      <td>8750</td>\n",
       "      <td>210</td>\n",
       "      <td>29</td>\n",
       "      <td>9165</td>\n",
       "    </tr>\n",
       "  </tbody>\n",
       "</table>\n",
       "</div>"
      ],
      "text/plain": [
       "        YEAR    2 W   3 W  4 W  BUS  TOTAL\n",
       "0 2017-04-01   96.0  4748  198    0   5042\n",
       "1 2017-05-01   91.0  6720  215    2   7028\n",
       "2 2017-06-01    NaN  7178  149    1   7465\n",
       "3 2017-07-01    NaN  8775  120    0   9011\n",
       "4 2017-08-01    NaN  8905  137    0   9141\n",
       "5 2017-09-01    NaN  7414  193    0   7716\n",
       "6 2017-10-01    NaN  7250  214    0   7624\n",
       "7 2017-11-01    NaN  9598  186   11  10009\n",
       "8 2017-12-01  189.0  8719  179    0   9087\n",
       "9 2018-01-01  176.0  8750  210   29   9165"
      ]
     },
     "execution_count": 13,
     "metadata": {},
     "output_type": "execute_result"
    }
   ],
   "source": [
    "df2.head(10)"
   ]
  },
  {
   "cell_type": "code",
   "execution_count": 14,
   "id": "1a3690a5-5012-4f30-ac70-ccce518980c7",
   "metadata": {},
   "outputs": [
    {
     "data": {
      "text/html": [
       "<div>\n",
       "<style scoped>\n",
       "    .dataframe tbody tr th:only-of-type {\n",
       "        vertical-align: middle;\n",
       "    }\n",
       "\n",
       "    .dataframe tbody tr th {\n",
       "        vertical-align: top;\n",
       "    }\n",
       "\n",
       "    .dataframe thead th {\n",
       "        text-align: right;\n",
       "    }\n",
       "</style>\n",
       "<table border=\"1\" class=\"dataframe\">\n",
       "  <thead>\n",
       "    <tr style=\"text-align: right;\">\n",
       "      <th></th>\n",
       "      <th>YEAR</th>\n",
       "      <th>2 W</th>\n",
       "      <th>3 W</th>\n",
       "      <th>4 W</th>\n",
       "      <th>BUS</th>\n",
       "      <th>TOTAL</th>\n",
       "    </tr>\n",
       "  </thead>\n",
       "  <tbody>\n",
       "    <tr>\n",
       "      <th>0</th>\n",
       "      <td>False</td>\n",
       "      <td>False</td>\n",
       "      <td>False</td>\n",
       "      <td>False</td>\n",
       "      <td>False</td>\n",
       "      <td>False</td>\n",
       "    </tr>\n",
       "    <tr>\n",
       "      <th>1</th>\n",
       "      <td>False</td>\n",
       "      <td>False</td>\n",
       "      <td>False</td>\n",
       "      <td>False</td>\n",
       "      <td>False</td>\n",
       "      <td>False</td>\n",
       "    </tr>\n",
       "    <tr>\n",
       "      <th>2</th>\n",
       "      <td>False</td>\n",
       "      <td>True</td>\n",
       "      <td>False</td>\n",
       "      <td>False</td>\n",
       "      <td>False</td>\n",
       "      <td>False</td>\n",
       "    </tr>\n",
       "    <tr>\n",
       "      <th>3</th>\n",
       "      <td>False</td>\n",
       "      <td>True</td>\n",
       "      <td>False</td>\n",
       "      <td>False</td>\n",
       "      <td>False</td>\n",
       "      <td>False</td>\n",
       "    </tr>\n",
       "    <tr>\n",
       "      <th>4</th>\n",
       "      <td>False</td>\n",
       "      <td>True</td>\n",
       "      <td>False</td>\n",
       "      <td>False</td>\n",
       "      <td>False</td>\n",
       "      <td>False</td>\n",
       "    </tr>\n",
       "    <tr>\n",
       "      <th>...</th>\n",
       "      <td>...</td>\n",
       "      <td>...</td>\n",
       "      <td>...</td>\n",
       "      <td>...</td>\n",
       "      <td>...</td>\n",
       "      <td>...</td>\n",
       "    </tr>\n",
       "    <tr>\n",
       "      <th>69</th>\n",
       "      <td>False</td>\n",
       "      <td>False</td>\n",
       "      <td>False</td>\n",
       "      <td>False</td>\n",
       "      <td>False</td>\n",
       "      <td>False</td>\n",
       "    </tr>\n",
       "    <tr>\n",
       "      <th>70</th>\n",
       "      <td>False</td>\n",
       "      <td>False</td>\n",
       "      <td>False</td>\n",
       "      <td>False</td>\n",
       "      <td>False</td>\n",
       "      <td>False</td>\n",
       "    </tr>\n",
       "    <tr>\n",
       "      <th>71</th>\n",
       "      <td>False</td>\n",
       "      <td>False</td>\n",
       "      <td>False</td>\n",
       "      <td>False</td>\n",
       "      <td>False</td>\n",
       "      <td>False</td>\n",
       "    </tr>\n",
       "    <tr>\n",
       "      <th>72</th>\n",
       "      <td>False</td>\n",
       "      <td>False</td>\n",
       "      <td>False</td>\n",
       "      <td>False</td>\n",
       "      <td>False</td>\n",
       "      <td>False</td>\n",
       "    </tr>\n",
       "    <tr>\n",
       "      <th>73</th>\n",
       "      <td>False</td>\n",
       "      <td>False</td>\n",
       "      <td>False</td>\n",
       "      <td>False</td>\n",
       "      <td>False</td>\n",
       "      <td>False</td>\n",
       "    </tr>\n",
       "  </tbody>\n",
       "</table>\n",
       "<p>74 rows × 6 columns</p>\n",
       "</div>"
      ],
      "text/plain": [
       "     YEAR    2 W    3 W    4 W    BUS  TOTAL\n",
       "0   False  False  False  False  False  False\n",
       "1   False  False  False  False  False  False\n",
       "2   False   True  False  False  False  False\n",
       "3   False   True  False  False  False  False\n",
       "4   False   True  False  False  False  False\n",
       "..    ...    ...    ...    ...    ...    ...\n",
       "69  False  False  False  False  False  False\n",
       "70  False  False  False  False  False  False\n",
       "71  False  False  False  False  False  False\n",
       "72  False  False  False  False  False  False\n",
       "73  False  False  False  False  False  False\n",
       "\n",
       "[74 rows x 6 columns]"
      ]
     },
     "execution_count": 14,
     "metadata": {},
     "output_type": "execute_result"
    }
   ],
   "source": [
    "df2.isnull()"
   ]
  },
  {
   "cell_type": "code",
   "execution_count": 15,
   "id": "0904fca2-1ece-4ced-bbda-2b937ce7436a",
   "metadata": {},
   "outputs": [
    {
     "data": {
      "text/plain": [
       "YEAR     0\n",
       "2 W      6\n",
       "3 W      0\n",
       "4 W      0\n",
       "BUS      0\n",
       "TOTAL    0\n",
       "dtype: int64"
      ]
     },
     "execution_count": 15,
     "metadata": {},
     "output_type": "execute_result"
    }
   ],
   "source": [
    "df2.isnull().sum()"
   ]
  },
  {
   "cell_type": "code",
   "execution_count": 16,
   "id": "bf3ce2d7-5a57-4c54-830e-f928630c8ce2",
   "metadata": {},
   "outputs": [
    {
     "data": {
      "text/plain": [
       "0     96\n",
       "1     91\n",
       "2    137\n",
       "3    116\n",
       "4     99\n",
       "Name: 2 W, dtype: int64"
      ]
     },
     "execution_count": 16,
     "metadata": {},
     "output_type": "execute_result"
    }
   ],
   "source": [
    "df['2 W'].head()"
   ]
  },
  {
   "cell_type": "code",
   "execution_count": 17,
   "id": "b20da8ef-1cdb-4606-9468-dcde0229fe91",
   "metadata": {},
   "outputs": [
    {
     "data": {
      "text/html": [
       "<div>\n",
       "<style scoped>\n",
       "    .dataframe tbody tr th:only-of-type {\n",
       "        vertical-align: middle;\n",
       "    }\n",
       "\n",
       "    .dataframe tbody tr th {\n",
       "        vertical-align: top;\n",
       "    }\n",
       "\n",
       "    .dataframe thead th {\n",
       "        text-align: right;\n",
       "    }\n",
       "</style>\n",
       "<table border=\"1\" class=\"dataframe\">\n",
       "  <thead>\n",
       "    <tr style=\"text-align: right;\">\n",
       "      <th></th>\n",
       "      <th>2 W</th>\n",
       "      <th>4 W</th>\n",
       "    </tr>\n",
       "  </thead>\n",
       "  <tbody>\n",
       "    <tr>\n",
       "      <th>0</th>\n",
       "      <td>96</td>\n",
       "      <td>198</td>\n",
       "    </tr>\n",
       "    <tr>\n",
       "      <th>1</th>\n",
       "      <td>91</td>\n",
       "      <td>215</td>\n",
       "    </tr>\n",
       "    <tr>\n",
       "      <th>2</th>\n",
       "      <td>137</td>\n",
       "      <td>149</td>\n",
       "    </tr>\n",
       "    <tr>\n",
       "      <th>3</th>\n",
       "      <td>116</td>\n",
       "      <td>120</td>\n",
       "    </tr>\n",
       "    <tr>\n",
       "      <th>4</th>\n",
       "      <td>99</td>\n",
       "      <td>137</td>\n",
       "    </tr>\n",
       "  </tbody>\n",
       "</table>\n",
       "</div>"
      ],
      "text/plain": [
       "   2 W  4 W\n",
       "0   96  198\n",
       "1   91  215\n",
       "2  137  149\n",
       "3  116  120\n",
       "4   99  137"
      ]
     },
     "execution_count": 17,
     "metadata": {},
     "output_type": "execute_result"
    }
   ],
   "source": [
    "df[['2 W','4 W']].head()"
   ]
  },
  {
   "cell_type": "code",
   "execution_count": 18,
   "id": "b6d80917-ebb6-4e4f-a7b2-560c38d96970",
   "metadata": {},
   "outputs": [
    {
     "data": {
      "text/html": [
       "<div>\n",
       "<style scoped>\n",
       "    .dataframe tbody tr th:only-of-type {\n",
       "        vertical-align: middle;\n",
       "    }\n",
       "\n",
       "    .dataframe tbody tr th {\n",
       "        vertical-align: top;\n",
       "    }\n",
       "\n",
       "    .dataframe thead th {\n",
       "        text-align: right;\n",
       "    }\n",
       "</style>\n",
       "<table border=\"1\" class=\"dataframe\">\n",
       "  <thead>\n",
       "    <tr style=\"text-align: right;\">\n",
       "      <th></th>\n",
       "      <th>YEAR</th>\n",
       "      <th>2 W</th>\n",
       "      <th>3 W</th>\n",
       "      <th>4 W</th>\n",
       "      <th>BUS</th>\n",
       "      <th>TOTAL</th>\n",
       "    </tr>\n",
       "  </thead>\n",
       "  <tbody>\n",
       "    <tr>\n",
       "      <th>4</th>\n",
       "      <td>2017-08-01</td>\n",
       "      <td>99</td>\n",
       "      <td>8905</td>\n",
       "      <td>137</td>\n",
       "      <td>0</td>\n",
       "      <td>9141</td>\n",
       "    </tr>\n",
       "  </tbody>\n",
       "</table>\n",
       "</div>"
      ],
      "text/plain": [
       "        YEAR  2 W   3 W  4 W  BUS  TOTAL\n",
       "4 2017-08-01   99  8905  137    0   9141"
      ]
     },
     "execution_count": 18,
     "metadata": {},
     "output_type": "execute_result"
    }
   ],
   "source": [
    "df[df.index == 4]"
   ]
  },
  {
   "cell_type": "code",
   "execution_count": 19,
   "id": "4eea945a-957a-4535-9473-41e86e0e7af8",
   "metadata": {},
   "outputs": [
    {
     "data": {
      "text/html": [
       "<div>\n",
       "<style scoped>\n",
       "    .dataframe tbody tr th:only-of-type {\n",
       "        vertical-align: middle;\n",
       "    }\n",
       "\n",
       "    .dataframe tbody tr th {\n",
       "        vertical-align: top;\n",
       "    }\n",
       "\n",
       "    .dataframe thead th {\n",
       "        text-align: right;\n",
       "    }\n",
       "</style>\n",
       "<table border=\"1\" class=\"dataframe\">\n",
       "  <thead>\n",
       "    <tr style=\"text-align: right;\">\n",
       "      <th></th>\n",
       "      <th>YEAR</th>\n",
       "      <th>2 W</th>\n",
       "      <th>3 W</th>\n",
       "      <th>4 W</th>\n",
       "      <th>BUS</th>\n",
       "      <th>TOTAL</th>\n",
       "    </tr>\n",
       "  </thead>\n",
       "  <tbody>\n",
       "    <tr>\n",
       "      <th>2</th>\n",
       "      <td>2017-06-01</td>\n",
       "      <td>137</td>\n",
       "      <td>7178</td>\n",
       "      <td>149</td>\n",
       "      <td>1</td>\n",
       "      <td>7465</td>\n",
       "    </tr>\n",
       "    <tr>\n",
       "      <th>3</th>\n",
       "      <td>2017-07-01</td>\n",
       "      <td>116</td>\n",
       "      <td>8775</td>\n",
       "      <td>120</td>\n",
       "      <td>0</td>\n",
       "      <td>9011</td>\n",
       "    </tr>\n",
       "    <tr>\n",
       "      <th>4</th>\n",
       "      <td>2017-08-01</td>\n",
       "      <td>99</td>\n",
       "      <td>8905</td>\n",
       "      <td>137</td>\n",
       "      <td>0</td>\n",
       "      <td>9141</td>\n",
       "    </tr>\n",
       "    <tr>\n",
       "      <th>5</th>\n",
       "      <td>2017-09-01</td>\n",
       "      <td>109</td>\n",
       "      <td>7414</td>\n",
       "      <td>193</td>\n",
       "      <td>0</td>\n",
       "      <td>7716</td>\n",
       "    </tr>\n",
       "    <tr>\n",
       "      <th>6</th>\n",
       "      <td>2017-10-01</td>\n",
       "      <td>160</td>\n",
       "      <td>7250</td>\n",
       "      <td>214</td>\n",
       "      <td>0</td>\n",
       "      <td>7624</td>\n",
       "    </tr>\n",
       "    <tr>\n",
       "      <th>7</th>\n",
       "      <td>2017-11-01</td>\n",
       "      <td>214</td>\n",
       "      <td>9598</td>\n",
       "      <td>186</td>\n",
       "      <td>11</td>\n",
       "      <td>10009</td>\n",
       "    </tr>\n",
       "  </tbody>\n",
       "</table>\n",
       "</div>"
      ],
      "text/plain": [
       "        YEAR  2 W   3 W  4 W  BUS  TOTAL\n",
       "2 2017-06-01  137  7178  149    1   7465\n",
       "3 2017-07-01  116  8775  120    0   9011\n",
       "4 2017-08-01   99  8905  137    0   9141\n",
       "5 2017-09-01  109  7414  193    0   7716\n",
       "6 2017-10-01  160  7250  214    0   7624\n",
       "7 2017-11-01  214  9598  186   11  10009"
      ]
     },
     "execution_count": 19,
     "metadata": {},
     "output_type": "execute_result"
    }
   ],
   "source": [
    "df[df.index.isin(range(2,8))]"
   ]
  },
  {
   "cell_type": "code",
   "execution_count": 20,
   "id": "ed8b2103-0805-4b11-8942-85c8c447108e",
   "metadata": {},
   "outputs": [
    {
     "name": "stdout",
     "output_type": "stream",
     "text": [
      "<class 'pandas.core.frame.DataFrame'>\n",
      "RangeIndex: 74 entries, 0 to 73\n",
      "Data columns (total 6 columns):\n",
      " #   Column  Non-Null Count  Dtype         \n",
      "---  ------  --------------  -----         \n",
      " 0   YEAR    74 non-null     datetime64[ns]\n",
      " 1   2 W     68 non-null     float64       \n",
      " 2   3 W     74 non-null     int64         \n",
      " 3   4 W     74 non-null     int64         \n",
      " 4   BUS     74 non-null     int64         \n",
      " 5   TOTAL   74 non-null     int64         \n",
      "dtypes: datetime64[ns](1), float64(1), int64(4)\n",
      "memory usage: 3.6 KB\n"
     ]
    }
   ],
   "source": [
    "df2.info()"
   ]
  },
  {
   "cell_type": "code",
   "execution_count": 21,
   "id": "4d5ee8e8-b841-4ef6-94fa-7b3fd2489090",
   "metadata": {},
   "outputs": [],
   "source": [
    "df2.index = range(1,75)"
   ]
  },
  {
   "cell_type": "code",
   "execution_count": 22,
   "id": "16a94245-e552-4126-9fb9-77c8bf30b757",
   "metadata": {},
   "outputs": [
    {
     "data": {
      "text/html": [
       "<div>\n",
       "<style scoped>\n",
       "    .dataframe tbody tr th:only-of-type {\n",
       "        vertical-align: middle;\n",
       "    }\n",
       "\n",
       "    .dataframe tbody tr th {\n",
       "        vertical-align: top;\n",
       "    }\n",
       "\n",
       "    .dataframe thead th {\n",
       "        text-align: right;\n",
       "    }\n",
       "</style>\n",
       "<table border=\"1\" class=\"dataframe\">\n",
       "  <thead>\n",
       "    <tr style=\"text-align: right;\">\n",
       "      <th></th>\n",
       "      <th>YEAR</th>\n",
       "      <th>2 W</th>\n",
       "      <th>3 W</th>\n",
       "      <th>4 W</th>\n",
       "      <th>BUS</th>\n",
       "      <th>TOTAL</th>\n",
       "    </tr>\n",
       "  </thead>\n",
       "  <tbody>\n",
       "    <tr>\n",
       "      <th>1</th>\n",
       "      <td>2017-04-01</td>\n",
       "      <td>96.0</td>\n",
       "      <td>4748</td>\n",
       "      <td>198</td>\n",
       "      <td>0</td>\n",
       "      <td>5042</td>\n",
       "    </tr>\n",
       "    <tr>\n",
       "      <th>2</th>\n",
       "      <td>2017-05-01</td>\n",
       "      <td>91.0</td>\n",
       "      <td>6720</td>\n",
       "      <td>215</td>\n",
       "      <td>2</td>\n",
       "      <td>7028</td>\n",
       "    </tr>\n",
       "    <tr>\n",
       "      <th>3</th>\n",
       "      <td>2017-06-01</td>\n",
       "      <td>NaN</td>\n",
       "      <td>7178</td>\n",
       "      <td>149</td>\n",
       "      <td>1</td>\n",
       "      <td>7465</td>\n",
       "    </tr>\n",
       "    <tr>\n",
       "      <th>4</th>\n",
       "      <td>2017-07-01</td>\n",
       "      <td>NaN</td>\n",
       "      <td>8775</td>\n",
       "      <td>120</td>\n",
       "      <td>0</td>\n",
       "      <td>9011</td>\n",
       "    </tr>\n",
       "    <tr>\n",
       "      <th>5</th>\n",
       "      <td>2017-08-01</td>\n",
       "      <td>NaN</td>\n",
       "      <td>8905</td>\n",
       "      <td>137</td>\n",
       "      <td>0</td>\n",
       "      <td>9141</td>\n",
       "    </tr>\n",
       "  </tbody>\n",
       "</table>\n",
       "</div>"
      ],
      "text/plain": [
       "        YEAR   2 W   3 W  4 W  BUS  TOTAL\n",
       "1 2017-04-01  96.0  4748  198    0   5042\n",
       "2 2017-05-01  91.0  6720  215    2   7028\n",
       "3 2017-06-01   NaN  7178  149    1   7465\n",
       "4 2017-07-01   NaN  8775  120    0   9011\n",
       "5 2017-08-01   NaN  8905  137    0   9141"
      ]
     },
     "execution_count": 22,
     "metadata": {},
     "output_type": "execute_result"
    }
   ],
   "source": [
    "df2.head()"
   ]
  },
  {
   "cell_type": "code",
   "execution_count": 23,
   "id": "f2862016-4e8c-475b-a879-e33c3cac40fc",
   "metadata": {},
   "outputs": [
    {
     "data": {
      "text/html": [
       "<div>\n",
       "<style scoped>\n",
       "    .dataframe tbody tr th:only-of-type {\n",
       "        vertical-align: middle;\n",
       "    }\n",
       "\n",
       "    .dataframe tbody tr th {\n",
       "        vertical-align: top;\n",
       "    }\n",
       "\n",
       "    .dataframe thead th {\n",
       "        text-align: right;\n",
       "    }\n",
       "</style>\n",
       "<table border=\"1\" class=\"dataframe\">\n",
       "  <thead>\n",
       "    <tr style=\"text-align: right;\">\n",
       "      <th></th>\n",
       "      <th>2 W</th>\n",
       "      <th>4 W</th>\n",
       "    </tr>\n",
       "  </thead>\n",
       "  <tbody>\n",
       "    <tr>\n",
       "      <th>2</th>\n",
       "      <td>137</td>\n",
       "      <td>149</td>\n",
       "    </tr>\n",
       "    <tr>\n",
       "      <th>3</th>\n",
       "      <td>116</td>\n",
       "      <td>120</td>\n",
       "    </tr>\n",
       "    <tr>\n",
       "      <th>4</th>\n",
       "      <td>99</td>\n",
       "      <td>137</td>\n",
       "    </tr>\n",
       "    <tr>\n",
       "      <th>5</th>\n",
       "      <td>109</td>\n",
       "      <td>193</td>\n",
       "    </tr>\n",
       "    <tr>\n",
       "      <th>6</th>\n",
       "      <td>160</td>\n",
       "      <td>214</td>\n",
       "    </tr>\n",
       "    <tr>\n",
       "      <th>7</th>\n",
       "      <td>214</td>\n",
       "      <td>186</td>\n",
       "    </tr>\n",
       "  </tbody>\n",
       "</table>\n",
       "</div>"
      ],
      "text/plain": [
       "   2 W  4 W\n",
       "2  137  149\n",
       "3  116  120\n",
       "4   99  137\n",
       "5  109  193\n",
       "6  160  214\n",
       "7  214  186"
      ]
     },
     "execution_count": 23,
     "metadata": {},
     "output_type": "execute_result"
    }
   ],
   "source": [
    "df.iloc[2:8,[1,3]]"
   ]
  },
  {
   "cell_type": "code",
   "execution_count": 24,
   "id": "ebfbb921-3858-45b0-bb86-53ba115d478d",
   "metadata": {},
   "outputs": [
    {
     "data": {
      "text/html": [
       "<div>\n",
       "<style scoped>\n",
       "    .dataframe tbody tr th:only-of-type {\n",
       "        vertical-align: middle;\n",
       "    }\n",
       "\n",
       "    .dataframe tbody tr th {\n",
       "        vertical-align: top;\n",
       "    }\n",
       "\n",
       "    .dataframe thead th {\n",
       "        text-align: right;\n",
       "    }\n",
       "</style>\n",
       "<table border=\"1\" class=\"dataframe\">\n",
       "  <thead>\n",
       "    <tr style=\"text-align: right;\">\n",
       "      <th></th>\n",
       "      <th>YEAR</th>\n",
       "      <th>2 W</th>\n",
       "      <th>3 W</th>\n",
       "      <th>4 W</th>\n",
       "      <th>BUS</th>\n",
       "      <th>TOTAL</th>\n",
       "    </tr>\n",
       "  </thead>\n",
       "  <tbody>\n",
       "    <tr>\n",
       "      <th>3</th>\n",
       "      <td>2017-07-01</td>\n",
       "      <td>116</td>\n",
       "      <td>8775</td>\n",
       "      <td>120</td>\n",
       "      <td>0</td>\n",
       "      <td>9011</td>\n",
       "    </tr>\n",
       "  </tbody>\n",
       "</table>\n",
       "</div>"
      ],
      "text/plain": [
       "        YEAR  2 W   3 W  4 W  BUS  TOTAL\n",
       "3 2017-07-01  116  8775  120    0   9011"
      ]
     },
     "execution_count": 24,
     "metadata": {},
     "output_type": "execute_result"
    }
   ],
   "source": [
    "df[df.TOTAL == 9011]"
   ]
  },
  {
   "cell_type": "code",
   "execution_count": 29,
   "id": "26e05feb-b256-40c8-bef9-21479370f904",
   "metadata": {},
   "outputs": [
    {
     "data": {
      "text/html": [
       "<div>\n",
       "<style scoped>\n",
       "    .dataframe tbody tr th:only-of-type {\n",
       "        vertical-align: middle;\n",
       "    }\n",
       "\n",
       "    .dataframe tbody tr th {\n",
       "        vertical-align: top;\n",
       "    }\n",
       "\n",
       "    .dataframe thead th {\n",
       "        text-align: right;\n",
       "    }\n",
       "</style>\n",
       "<table border=\"1\" class=\"dataframe\">\n",
       "  <thead>\n",
       "    <tr style=\"text-align: right;\">\n",
       "      <th></th>\n",
       "      <th>YEAR</th>\n",
       "      <th>2 W</th>\n",
       "      <th>3 W</th>\n",
       "      <th>4 W</th>\n",
       "      <th>BUS</th>\n",
       "      <th>TOTAL</th>\n",
       "    </tr>\n",
       "  </thead>\n",
       "  <tbody>\n",
       "    <tr>\n",
       "      <th>67</th>\n",
       "      <td>2022-11-01</td>\n",
       "      <td>76700</td>\n",
       "      <td>40403</td>\n",
       "      <td>4027</td>\n",
       "      <td>118</td>\n",
       "      <td>121248</td>\n",
       "    </tr>\n",
       "    <tr>\n",
       "      <th>71</th>\n",
       "      <td>2023-03-01</td>\n",
       "      <td>86194</td>\n",
       "      <td>45225</td>\n",
       "      <td>8852</td>\n",
       "      <td>89</td>\n",
       "      <td>140360</td>\n",
       "    </tr>\n",
       "    <tr>\n",
       "      <th>73</th>\n",
       "      <td>2023-05-01</td>\n",
       "      <td>105154</td>\n",
       "      <td>44615</td>\n",
       "      <td>7736</td>\n",
       "      <td>283</td>\n",
       "      <td>157788</td>\n",
       "    </tr>\n",
       "  </tbody>\n",
       "</table>\n",
       "</div>"
      ],
      "text/plain": [
       "         YEAR     2 W    3 W   4 W  BUS   TOTAL\n",
       "67 2022-11-01   76700  40403  4027  118  121248\n",
       "71 2023-03-01   86194  45225  8852   89  140360\n",
       "73 2023-05-01  105154  44615  7736  283  157788"
      ]
     },
     "execution_count": 29,
     "metadata": {},
     "output_type": "execute_result"
    }
   ],
   "source": [
    "df[df.TOTAL > 120000]"
   ]
  },
  {
   "cell_type": "code",
   "execution_count": 28,
   "id": "767c4193-dc90-48f6-a41d-eba6c74f0290",
   "metadata": {},
   "outputs": [
    {
     "data": {
      "text/html": [
       "<div>\n",
       "<style scoped>\n",
       "    .dataframe tbody tr th:only-of-type {\n",
       "        vertical-align: middle;\n",
       "    }\n",
       "\n",
       "    .dataframe tbody tr th {\n",
       "        vertical-align: top;\n",
       "    }\n",
       "\n",
       "    .dataframe thead th {\n",
       "        text-align: right;\n",
       "    }\n",
       "</style>\n",
       "<table border=\"1\" class=\"dataframe\">\n",
       "  <thead>\n",
       "    <tr style=\"text-align: right;\">\n",
       "      <th></th>\n",
       "      <th>BUS</th>\n",
       "      <th>YEAR</th>\n",
       "    </tr>\n",
       "  </thead>\n",
       "  <tbody>\n",
       "    <tr>\n",
       "      <th>67</th>\n",
       "      <td>118</td>\n",
       "      <td>2022-11-01</td>\n",
       "    </tr>\n",
       "    <tr>\n",
       "      <th>71</th>\n",
       "      <td>89</td>\n",
       "      <td>2023-03-01</td>\n",
       "    </tr>\n",
       "    <tr>\n",
       "      <th>73</th>\n",
       "      <td>283</td>\n",
       "      <td>2023-05-01</td>\n",
       "    </tr>\n",
       "  </tbody>\n",
       "</table>\n",
       "</div>"
      ],
      "text/plain": [
       "    BUS       YEAR\n",
       "67  118 2022-11-01\n",
       "71   89 2023-03-01\n",
       "73  283 2023-05-01"
      ]
     },
     "execution_count": 28,
     "metadata": {},
     "output_type": "execute_result"
    }
   ],
   "source": [
    "df.loc[df['TOTAL'] > 120000,['BUS' , 'YEAR']]"
   ]
  },
  {
   "cell_type": "code",
   "execution_count": null,
   "id": "65c9192d-4d92-4f6e-96b7-bd108160c780",
   "metadata": {},
   "outputs": [],
   "source": []
  }
 ],
 "metadata": {
  "kernelspec": {
   "display_name": "Python 3 (ipykernel)",
   "language": "python",
   "name": "python3"
  },
  "language_info": {
   "codemirror_mode": {
    "name": "ipython",
    "version": 3
   },
   "file_extension": ".py",
   "mimetype": "text/x-python",
   "name": "python",
   "nbconvert_exporter": "python",
   "pygments_lexer": "ipython3",
   "version": "3.12.4"
  }
 },
 "nbformat": 4,
 "nbformat_minor": 5
}
