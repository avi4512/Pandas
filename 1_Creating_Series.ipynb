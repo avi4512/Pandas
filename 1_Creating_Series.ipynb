{
 "cells": [
  {
   "cell_type": "code",
   "execution_count": 1,
   "id": "16443e00-c84f-44e4-ba56-53830b6922f0",
   "metadata": {},
   "outputs": [],
   "source": [
    "import pandas as pd"
   ]
  },
  {
   "cell_type": "markdown",
   "id": "fda13fd7-0bf4-431d-bb41-1149fb20560f",
   "metadata": {},
   "source": [
    "1_Creating Empty Series"
   ]
  },
  {
   "cell_type": "code",
   "execution_count": 3,
   "id": "1cbad515-7ccd-40c8-986d-46886fd03250",
   "metadata": {},
   "outputs": [
    {
     "data": {
      "text/plain": [
       "Series([], dtype: object)"
      ]
     },
     "execution_count": 3,
     "metadata": {},
     "output_type": "execute_result"
    }
   ],
   "source": [
    "empty_Series = pd.Series()\n",
    "empty_Series"
   ]
  },
  {
   "cell_type": "markdown",
   "id": "0ecb2e07-e695-4a7c-a53a-5f8b240e4a43",
   "metadata": {},
   "source": [
    "2_Using List"
   ]
  },
  {
   "cell_type": "code",
   "execution_count": 8,
   "id": "240373c8-975b-47e8-803f-61b7b17fb3a6",
   "metadata": {},
   "outputs": [
    {
     "name": "stdout",
     "output_type": "stream",
     "text": [
      "0    10\n",
      "1    20\n",
      "2    30\n",
      "3    40\n",
      "4    50\n",
      "dtype: int64\n"
     ]
    }
   ],
   "source": [
    "list1 = [10,20,30,40,50]\n",
    "list_series = pd.Series(list1)\n",
    "print(list_series)"
   ]
  },
  {
   "cell_type": "markdown",
   "id": "92bbbad2-756b-43ed-83e8-e576cc7a313d",
   "metadata": {},
   "source": [
    "3_Using_Array"
   ]
  },
  {
   "cell_type": "code",
   "execution_count": 11,
   "id": "62b7669e-709e-49dd-9299-37f32da423ed",
   "metadata": {},
   "outputs": [
    {
     "name": "stdout",
     "output_type": "stream",
     "text": [
      "0    11\n",
      "1    22\n",
      "2    33\n",
      "3    44\n",
      "4    55\n",
      "dtype: int32\n"
     ]
    }
   ],
   "source": [
    "import numpy as np \n",
    "arr = np.array([11,22,33,44,55])\n",
    "array_series = pd.Series(arr)\n",
    "print(array_series)"
   ]
  },
  {
   "cell_type": "markdown",
   "id": "ff7209a6-8365-4322-badf-5c6e9610bb05",
   "metadata": {},
   "source": [
    "4_Using_Dictionary"
   ]
  },
  {
   "cell_type": "code",
   "execution_count": 12,
   "id": "53bb8132-9238-4127-94ea-c76d61014722",
   "metadata": {},
   "outputs": [
    {
     "name": "stdout",
     "output_type": "stream",
     "text": [
      "1      One\n",
      "2      Two\n",
      "3    Three\n",
      "4     Four\n",
      "dtype: object\n"
     ]
    }
   ],
   "source": [
    "d = {\n",
    "    1:\"One\",\n",
    "    2:\"Two\",\n",
    "    3:\"Three\",\n",
    "    4:\"Four\"\n",
    "    }\n",
    "Dict_Series = pd.Series(d)\n",
    "print(Dict_Series)\n",
    " "
   ]
  },
  {
   "cell_type": "code",
   "execution_count": null,
   "id": "6c8b35d2-99fd-4210-9ed8-4898969f9cc7",
   "metadata": {},
   "outputs": [],
   "source": []
  }
 ],
 "metadata": {
  "kernelspec": {
   "display_name": "Python 3 (ipykernel)",
   "language": "python",
   "name": "python3"
  },
  "language_info": {
   "codemirror_mode": {
    "name": "ipython",
    "version": 3
   },
   "file_extension": ".py",
   "mimetype": "text/x-python",
   "name": "python",
   "nbconvert_exporter": "python",
   "pygments_lexer": "ipython3",
   "version": "3.12.4"
  }
 },
 "nbformat": 4,
 "nbformat_minor": 5
}
